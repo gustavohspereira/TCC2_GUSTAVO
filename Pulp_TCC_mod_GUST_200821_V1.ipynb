{
 "cells": [
  {
   "cell_type": "markdown",
   "metadata": {},
   "source": [
    "# ESSA É A VERSÃO 1\n",
    "- USA OS DADOS DA PLANILHA: DADOSTCC_TESTE (FORA DO GIT)\n",
    "- SIMULAÇÃO COM OS HUBS: 53 E 117, SPOKES = 19,20,781\n",
    "\n",
    "\n",
    "## SIMULAÇÃO 1 -  CÓD ORIGINAL\n",
    "- Simulação com hubs e spoke **SEM** restrição 8 e 9 e **COM** restrição 8 e 9\n",
    "- Simulação **SEM** hub-hub considerado\n",
    "\n",
    "## SIMULAÇÃO 2 - CENÁRIO 1\n",
    "- Cenário já modificado com novas demandas somadas--- Demanda do hub 117 alocada (FORÇADA) na demanda do HUB 53\n",
    "- Ler aba: CENARIO1\n",
    "- Simulação com hubs e spoke **SEM** restrição 8 e 9 e **COM** restrição 8 e 9\n",
    "- Simulação **SEM** hub-hub considerado\n",
    "\n",
    "## SIMULAÇÃO 3 - CENÁRIO 2\n",
    "- Cenário já modificado com novas demandas somadas--- Demanda do hub 117 alocada (FORÇADA) na demanda do HUB 53\n",
    "- Retirada das linhas do spoke 117\n",
    "- Ler aba: CENARIO2\n",
    "- Simulação com hubs e spoke **SEM** restrição 8 e 9 e **COM** restrição 8 e 9\n",
    "- Simulação **SEM** hub-hub considerado\n",
    "\n",
    "## SIMULAÇÃO 4 - CENÁRIO 3\n",
    "- Mesmos dados da **SIMULAÇÃO 1 (DADOS)**, mas utilizando o método **GANHO** para alterar a demanda --- Demanda do hub 117 alocada na demanda do HUB 53\n",
    "- Simulação **SEM** hub-hub considerado\n",
    "- Simulação com hubs e spoke **SEM** restrição 8 e 9 e **COM** restrição 8 e 9\n",
    "\n",
    "## SIMULAÇÃO 5 - CENÁRIO 4\n",
    "- Adição dos dados HUB - HUB manualmente: Rota 117-53 com DEMANDA E DISTANCIA estabelecido previamente no código\n",
    "- **Sem** método **GANHO**\n",
    "- **Sem** método **Hub-Hub**\n",
    "\n",
    "## SIMULAÇÃO 6 - CENÁRIO 5\n",
    "- Mesmos dados do Cenário 4\n",
    "- Utilizando o método **GANHO** para alterar a demanda -- Demanda do Hub17 alocada para o Hub53\n",
    "- Adição dos dados HUB - HUB manualmente: Rota 117-53 com DEMANDA E DISTANCIA estabelecido previamente no código\n",
    "\n",
    "\n",
    "## SIMULAÇÃO 7 - CENÁRIO 6\n",
    "- Mesmos dados do aba \"DADOS\"\n",
    "- Utilizando o método **GANHO** : ATRIBUI DEMANDA ZERO PARA AS ROTAS NAO ESCOLHIDAS\n",
    "- Simulação **SEM** hub-hub considerado\n",
    "\n",
    "## SIMULAÇÃO 8 - CENÁRIO 7\n",
    "- Adição dos dados HUB - HUB manualmente: Rota 117-53 com DEMANDA E DISTANCIA estabelecido previamente no código\n",
    "- Utilizando o método **GANHO** : ATRIBUI DEMANDA ZERO PARA AS ROTAS NAO ESCOLHIDAS\n",
    "- **Sem** método **Hub-Hub**\n",
    "\n",
    "\n",
    "## SIMULAÇÃO 9 - CENÁRIO 8\n",
    "- Mesmos dados do aba \"DADOS\"\n",
    "- Criação de um novo DADOS1 com os valores HUB-HUB inseridos pelo código\n",
    "- Utilizando o método **GANHO** : ATRIBUI DEMANDA ZERO PARA AS ROTAS NAO ESCOLHIDAS\n",
    "- Simulação **COM** hub-hub considerado\n"
   ]
  },
  {
   "cell_type": "code",
   "execution_count": 726,
   "metadata": {},
   "outputs": [],
   "source": [
    "from pulp import *\n",
    "import pandas as pd\n",
    "import numpy as np\n",
    "from pandas import ExcelWriter"
   ]
  },
  {
   "cell_type": "code",
   "execution_count": 727,
   "metadata": {},
   "outputs": [],
   "source": [
    "#Function para calcular o preço da passagem\n",
    "def Tarifa(dist):\n",
    "    return np.exp(-0.73953 * np.log(dist) + 4.44446)*dist\n",
    "\n",
    "#Function para calcular o CASK\n",
    "def Cask(dist, seats):\n",
    "    return np.exp(1.728912 - 0.40453 * np.log(dist) - 0.35671 * np.log(seats))"
   ]
  },
  {
   "cell_type": "code",
   "execution_count": 728,
   "metadata": {},
   "outputs": [],
   "source": [
    "#Leitura dos dados para construção da malha\n",
    "\n",
    "DADOS1 = pd.read_excel('DadosTCC_TESTE.xlsx',sheet_name = 'Dados')\n",
    "DADOS1.dropna(inplace=True)\n",
    "DADOS1.reset_index(drop=True, inplace=True)\n",
    "\n",
    "HUB = DADOS1['Hub'].astype(int)\n",
    "HUBN = HUB.drop_duplicates()\n",
    "numero_HUB = len(HUBN)\n",
    "#HUB = HUB.values.tolist()\n",
    "\n",
    "SPOKE = DADOS1['Spoke'].astype(int)\n",
    "SPOKEN = SPOKE.drop_duplicates()\n",
    "numero_SPOKE = len(SPOKEN)\n",
    "#SPOKE = SPOKE.values.tolist()\n",
    "\n",
    "DEMANDA = round(DADOS1['Demanda']).astype(int)\n",
    "#DEMANDA = DEMANDA.values.tolist()\n",
    "\n",
    "# DISTANCIA = round(DADOS1['Distancia']).astype(int)\n",
    "# #DISTANCIA = DISTANCIA.values.tolist()\n",
    "\n",
    "# # Definição do número de vertices (edges)\n",
    "# N = len(DISTANCIA)"
   ]
  },
  {
   "cell_type": "code",
   "execution_count": 729,
   "metadata": {},
   "outputs": [
    {
     "name": "stdout",
     "output_type": "stream",
     "text": [
      "0     53\n",
      "1     53\n",
      "2    117\n",
      "3    117\n",
      "4     53\n",
      "Name: Hub, dtype: int32\n",
      "0     53\n",
      "2    117\n",
      "Name: Hub, dtype: int32\n",
      "0     19\n",
      "1     20\n",
      "2     19\n",
      "3     20\n",
      "4    781\n",
      "Name: Spoke, dtype: int32\n",
      "0     19\n",
      "1     20\n",
      "4    781\n",
      "Name: Spoke, dtype: int32\n",
      "3\n",
      "0    1738\n",
      "1    2202\n",
      "2      82\n",
      "3     587\n",
      "4      40\n",
      "Name: Demanda, dtype: int32\n",
      "0    1246\n",
      "1     942\n",
      "2    1466\n",
      "3    1052\n",
      "4    1345\n",
      "5     212\n",
      "6     212\n",
      "Name: Distancia, dtype: int32\n",
      "7\n"
     ]
    }
   ],
   "source": [
    "print(HUB)\n",
    "print(HUBN)\n",
    "print(SPOKE)\n",
    "print(SPOKEN)\n",
    "print(numero_SPOKE)\n",
    "print(DEMANDA)\n",
    "print(DISTANCIA)\n",
    "print(N)\n"
   ]
  },
  {
   "cell_type": "code",
   "execution_count": 730,
   "metadata": {},
   "outputs": [],
   "source": [
    "#Calculo do YIELD E CASK de HUB-HUB\n",
    "#Método usando dictionary\n",
    "\n",
    "DADOS5 = pd.read_excel(r'D:\\GUSTAVO\\UNB\\TCC\\UnB-tcc-gustavo-2021\\Dados\\Dados_TCC_2021.xlsx', sheet_name='Hubs')\n",
    "Dist_hub ={}\n",
    "tarifa_hub = {}\n",
    "cask_hub ={}\n",
    "\n",
    "for i in DADOS5['Hub Dist']:\n",
    "#for i in HUBN:\n",
    "    dic1 = {}\n",
    "    dic2={}\n",
    "    dic3 = {}\n",
    "    #for j in range(len(DADOS5['Hub Dist'])):\n",
    "    \n",
    "    for j in range(len(DADOS5['Hub Dist'])):\n",
    "        dic1[DADOS5['Hub Dist'][j]] = DADOS5[i][j]\n",
    "        \n",
    "        if i!= DADOS5['Hub Dist'][j]:\n",
    "            dic2[DADOS5['Hub Dist'][j]] = Tarifa(DADOS5[i][j]) \n",
    "            \n",
    "            dic4={}\n",
    "            for anv in range(N_ANV):\n",
    "                dic4[DADOS3['Aeronave'][anv]] = Cask(DADOS5[i][j], ASSENTOS[anv])\n",
    "            dic3[DADOS5['Hub Dist'][j]] = dic4\n",
    "            \n",
    "    Dist_hub[i] = dic1\n",
    "    tarifa_hub[i] = dic2\n",
    "    cask_hub[i] = dic3\n"
   ]
  },
  {
   "cell_type": "code",
   "execution_count": 731,
   "metadata": {},
   "outputs": [
    {
     "name": "stdout",
     "output_type": "stream",
     "text": [
      "-----\n",
      "0    117\n",
      "Name: Hub, dtype: object\n",
      "   Hub Spoke Demanda Distancia\n",
      "0  117    53      82       212\n",
      "1  117    53     587       212\n",
      "df1    Hub Spoke Demanda Distancia\n",
      "0  117    53      82       212\n",
      "1  117    53     587       212\n",
      "lista_spoke 0    53\n",
      "Name: Spoke, dtype: object\n",
      "j= 53\n",
      "   Hub Spoke Demanda Distancia\n",
      "0  117    53      82       212\n",
      "1  117    53     587       212\n",
      "soma 669\n",
      "   Hub  Spoke  Demanda  Distancia\n",
      "0  117     53      669        212\n",
      "---\n",
      "   Hub Spoke Demanda Distancia\n",
      "0  117    53     669       212\n"
     ]
    }
   ],
   "source": [
    "# Criando ligação HUB->HUB com soma de demanda\n",
    "\n",
    "DATA = pd.DataFrame(columns=['Hub', 'Spoke','Demanda', 'Distancia'])\n",
    "\n",
    "for spoke in SPOKEN:\n",
    "    c = DADOS1['Hub'][DADOS1['Spoke']==spoke].index\n",
    "    for index in c:\n",
    "        if HUB[INDEX[spoke]] != HUB[index]:\n",
    "            DATA2 = pd.DataFrame({\"Hub\":[HUB[index]],\"Spoke\":[HUB[INDEX[spoke]]],\"Demanda\":[DEMANDA[index]],\"Distancia\": [Dist_hub[HUB[index]][HUB[INDEX[spoke]]]]})\n",
    "            DATA = DATA.append(DATA2, ignore_index=True)\n",
    "\n",
    "DATA_HUB = pd.DataFrame(columns=['Hub', 'Spoke', 'Demanda','Distancia'])\n",
    "lista_HH = DATA['Hub'].drop_duplicates()        \n",
    "print('-----')\n",
    "print(lista_HH)\n",
    "print(DATA)\n",
    "for hub in lista_HH:\n",
    "    df1 = DATA[DATA['Hub']==hub]\n",
    "    lista_spoke = df1['Spoke'].drop_duplicates().reset_index(drop=True)\n",
    "    print('df1', df1)\n",
    "    print('lista_spoke', lista_spoke)\n",
    "    \n",
    "    for j in lista_spoke:\n",
    "        df2 = df1[df1['Spoke']==j]\n",
    "        print('j=', j)\n",
    "        print(df2)\n",
    "        soma = 0\n",
    "        for i in df2['Demanda']:\n",
    "            soma += i \n",
    "        print('soma',soma)\n",
    "        \n",
    "        df3 = pd.DataFrame({'Hub':[hub], 'Spoke': [j], 'Demanda': [soma], 'Distancia': Dist_hub[hub][j]})\n",
    "        print(df3)\n",
    "        DATA_HUB = DATA_HUB.append(df3, ignore_index=True)\n",
    "        \n",
    "        print('---')\n",
    "        print(DATA_HUB)\n",
    " \n"
   ]
  },
  {
   "cell_type": "code",
   "execution_count": 732,
   "metadata": {},
   "outputs": [
    {
     "name": "stdout",
     "output_type": "stream",
     "text": [
      "   Hub  Spoke      Demanda    Distancia\n",
      "0   53     19  1738.428245  1246.946553\n",
      "1   53     20  2201.708699   942.714927\n",
      "2  117     19    81.968214  1466.000000\n",
      "3  117     20   586.852533  1052.000000\n",
      "4   53    781    40.000000  1345.000000\n",
      "   Hub Spoke  Demanda Distancia\n",
      "0   53    19  1738.43   1246.95\n",
      "1   53    20  2201.71   942.715\n",
      "2  117    19  81.9682      1466\n",
      "3  117    20  586.853      1052\n",
      "4   53   781       40      1345\n",
      "5  117    53      669       212\n"
     ]
    }
   ],
   "source": [
    "# CENARIO 8\n",
    "print(DADOS1)\n",
    "# JUNÇÃO DE DADOS1 COM A NOVA TABELA\n",
    "DADOS1 = DADOS1.append(DATA_HUB, ignore_index=True)\n",
    "print(DADOS1)\n",
    "\n",
    "HUB = DADOS1['Hub'].astype(int)\n",
    "HUBN = HUB.drop_duplicates()\n",
    "numero_HUB = len(HUBN)\n",
    "#HUB = HUB.values.tolist()\n",
    "\n",
    "SPOKE = DADOS1['Spoke'].astype(int)\n",
    "SPOKEN = SPOKE.drop_duplicates()\n",
    "numero_SPOKE = len(SPOKEN)\n",
    "#SPOKE = SPOKE.values.tolist()\n",
    "\n",
    "DEMANDA = DADOS1['Demanda'].astype(int)\n",
    "#DEMANDA = DEMANDA.values.tolist()\n",
    "\n",
    "DISTANCIA = DADOS1['Distancia'].astype(int)\n",
    "#DISTANCIA = DISTANCIA.values.tolist()\n",
    "\n",
    "# Definição do número de vertices (edges)\n",
    "N = len(DISTANCIA)"
   ]
  },
  {
   "cell_type": "code",
   "execution_count": 733,
   "metadata": {},
   "outputs": [
    {
     "data": {
      "text/plain": [
       "0    1738\n",
       "1    2201\n",
       "2      81\n",
       "3     586\n",
       "4      40\n",
       "5     669\n",
       "Name: Demanda, dtype: int32"
      ]
     },
     "execution_count": 733,
     "metadata": {},
     "output_type": "execute_result"
    }
   ],
   "source": [
    "DEMANDA"
   ]
  },
  {
   "cell_type": "code",
   "execution_count": 734,
   "metadata": {},
   "outputs": [],
   "source": [
    "DADOS2 = pd.DataFrame(columns=['Passagem'])\n",
    "for i in range(N):\n",
    "    x = Tarifa(DISTANCIA[i])\n",
    "    DADOS2 = DADOS2.append({'Passagem': x}, ignore_index=True)\n",
    "DADOS2.reset_index(drop=True, inplace=True)\n",
    "PASSAGEM = DADOS2['Passagem']\n",
    "#PASSAGEM = PASSAGEM.values.tolist()"
   ]
  },
  {
   "cell_type": "code",
   "execution_count": 735,
   "metadata": {},
   "outputs": [],
   "source": [
    "# Leitura dos dados sobre aeronaves\n",
    "  \n",
    "DADOS3 = pd.read_excel('DadosTCC_TESTE.xlsx',sheet_name = 'Aeronaves') \n",
    "DADOS3.dropna(inplace=True)\n",
    "DADOS3.reset_index(drop=True, inplace=True)\n",
    "DADOS3.drop_duplicates(inplace=True)\n",
    "\n",
    "AERONAVE = DADOS3['Aeronave']\n",
    "N_ANV = len(AERONAVE)\n",
    "\n",
    "ASSENTOS = DADOS3['Assentos']\n",
    "    \n",
    "ALCANCE = DADOS3['Alcance']"
   ]
  },
  {
   "cell_type": "code",
   "execution_count": 736,
   "metadata": {},
   "outputs": [],
   "source": [
    "# Cálculo do CASK por aeronave e rota\n",
    "\n",
    "DADOS4 = pd.DataFrame(columns=['Cask'])\n",
    "for i in range(N_ANV):\n",
    "    for j in range(N):\n",
    "        x = Cask(DISTANCIA[j], ASSENTOS[i])\n",
    "        DADOS4 = DADOS4.append({'Cask': x}, ignore_index=True)\n",
    "DADOS4.reset_index(drop=True, inplace=True)\n",
    "CASK = DADOS4['Cask']\n",
    "#CASK = CASK.values.tolist()"
   ]
  },
  {
   "cell_type": "code",
   "execution_count": 737,
   "metadata": {},
   "outputs": [
    {
     "data": {
      "text/plain": [
       "0     0.058944\n",
       "1     0.066005\n",
       "2     0.055192\n",
       "3     0.063121\n",
       "4     0.057149\n",
       "5     0.120670\n",
       "6     0.052157\n",
       "7     0.058405\n",
       "8     0.048837\n",
       "9     0.055853\n",
       "10    0.050569\n",
       "11    0.106775\n",
       "Name: Cask, dtype: float64"
      ]
     },
     "execution_count": 737,
     "metadata": {},
     "output_type": "execute_result"
    }
   ],
   "source": [
    "CASK"
   ]
  },
  {
   "cell_type": "code",
   "execution_count": 738,
   "metadata": {},
   "outputs": [
    {
     "name": "stdout",
     "output_type": "stream",
     "text": [
      "0   -700.877588\n",
      "1   -435.177961\n",
      "2   -897.294579\n",
      "3   -530.386416\n",
      "4   -788.912995\n",
      "5    131.672795\n",
      "dtype: float64\n",
      "INDEX final do spoke 19 - 0\n",
      "INDEX final do spoke 20 - 1\n",
      "INDEX final do spoke 781 - 4\n",
      "INDEX final do spoke 53 - 5\n"
     ]
    }
   ],
   "source": [
    "Ganho = PASSAGEM - DISTANCIA\n",
    "print(Ganho)\n",
    "#DATA = DADOS1.copy()\n",
    "\n",
    "INDEX = {}\n",
    "for spoke in SPOKEN:\n",
    "    ref= -100000 #Valor de referencia o menor possível\n",
    "    c = DADOS1['Hub'][DADOS1['Spoke']==spoke].index\n",
    "    for index in c:\n",
    "        if Ganho[index] >= ref:\n",
    "            ref = Ganho[index] #novo valor de referencia \n",
    "            INDEX[spoke] = index\n",
    "        #else:\n",
    "            #DATA.iat[index,3] = 0.001 #Atribui um valor alto para DISTANCIA\n",
    "            #DEMANDA[index] = 0 ## NAO DA CERTO - APAGAR\n",
    "            #print('Não muda index')\n",
    "    print('INDEX final do spoke',spoke, '-', INDEX[spoke])\n",
    "            \n",
    "    \n",
    "     \n"
   ]
  },
  {
   "cell_type": "code",
   "execution_count": 740,
   "metadata": {
    "scrolled": true
   },
   "outputs": [
    {
     "name": "stdout",
     "output_type": "stream",
     "text": [
      "0    1738\n",
      "1    2201\n",
      "2      81\n",
      "3     586\n",
      "4      40\n",
      "5     669\n",
      "Name: Demanda, dtype: int32\n",
      "0    1738\n",
      "1    2201\n",
      "2      81\n",
      "3     586\n",
      "4      40\n",
      "5     669\n",
      "Name: Demanda, dtype: int32\n",
      "0    1819\n",
      "1    2787\n",
      "2       0\n",
      "3       0\n",
      "4      40\n",
      "5     669\n",
      "Name: Demanda, dtype: int32\n",
      "0    1819\n",
      "1    2787\n",
      "2       0\n",
      "3       0\n",
      "4      40\n",
      "5     669\n",
      "Name: Demanda, dtype: int32\n"
     ]
    }
   ],
   "source": [
    "NEW_DEMANDA = DEMANDA.copy()\n",
    "#NEW_DEMANDA = DEMANDA\n",
    "print(DEMANDA)\n",
    "#print(NEW_DEMANDA, type(NEW_DEMANDA))\n",
    "\n",
    "for spoke in SPOKEN:\n",
    "    Inicial_hub = INDEX[spoke]\n",
    "    c = DADOS1['Hub'][DADOS1['Spoke']==spoke].index\n",
    "    demanda = 0\n",
    "    for index in c:\n",
    "        demanda += DEMANDA[index]\n",
    "        if index != Inicial_hub:    # Nao pode repetir so a celula.... rodar o codigo inteiro (CELL-> RUN ALL ABOVE)\n",
    "            #DEMANDA[index] = 0\n",
    "            NEW_DEMANDA[index] = 0\n",
    "    NEW_DEMANDA.iat[Inicial_hub] = demanda\n",
    "\n",
    "print(DEMANDA)\n",
    "print(NEW_DEMANDA)\n",
    "\n",
    "DEMANDA = NEW_DEMANDA\n",
    "print(DEMANDA)\n",
    "#print(OLD_DEMANDA)\n"
   ]
  },
  {
   "cell_type": "code",
   "execution_count": 741,
   "metadata": {
    "scrolled": true
   },
   "outputs": [
    {
     "data": {
      "text/plain": [
       "0    1819\n",
       "1    2787\n",
       "2       0\n",
       "3       0\n",
       "4      40\n",
       "5     669\n",
       "Name: Demanda, dtype: int32"
      ]
     },
     "execution_count": 741,
     "metadata": {},
     "output_type": "execute_result"
    }
   ],
   "source": [
    "DEMANDA"
   ]
  },
  {
   "cell_type": "code",
   "execution_count": 1440,
   "metadata": {
    "scrolled": false
   },
   "outputs": [],
   "source": [
    "## EXEMPLO PARA O DATA_HUB - UTILIZANDO CENARIO HIPOTETICO\n",
    "\n",
    "# DF_exemplo = pd.DataFrame(data = {'HUB':[41,42,117,42,53,41,42,42], \n",
    "#                      'Spoke': [53,53,53,117,117,117,117,117], \n",
    "#                      'Demanda': [100,200,300,400,500,600,700,800],\n",
    "#                       'Distancia': [1000,2000,3000,4000,5000,6000,7000,8000]})\n",
    "\n",
    "# DF2_exemplo = pd.DataFrame(columns=['HUB', 'Spoke', 'Demanda','Distancia'])\n",
    "\n",
    "# list_hub = DF_exemplo['HUB'].drop_duplicates()\n",
    "# print('DF_exemplo:')\n",
    "# print(DF_exemplo)\n",
    "# print('list_hub:')\n",
    "# print(list_hub)\n",
    "\n",
    "# for hub in list_hub:\n",
    "#     print('HUB=', hub)\n",
    "#     DF2 = DF_exemplo[DF_exemplo['HUB']== hub]\n",
    "#     list_spoke = DF2['Spoke'].drop_duplicates().reset_index(drop=True)\n",
    "#     print('DF2:')\n",
    "#     print(DF2)\n",
    "#     print('list_spoke[HUB]:')\n",
    "#     print(list_spoke)\n",
    "    \n",
    "#     for j in list_spoke:\n",
    "#         print('J=', j)\n",
    "#         DF3= DF2[DF2['Spoke']==j]\n",
    "#         soma = 0\n",
    "#         print('DF3')\n",
    "#         print(DF3)\n",
    "        \n",
    "#         for i in DF3['Demanda']:\n",
    "#             soma += i\n",
    "#         DF4 = pd.DataFrame({'HUB':[hub], 'Spoke': [j], 'Demanda': [soma], 'Distancia': Dist_hub[hub][j]})\n",
    "#         print('DF4')\n",
    "#         print(DF4)\n",
    "#         DF2_exemplo = DF2_exemplo.append(DF4, ignore_index=True)\n",
    "#         print('DF2_exemplo')\n",
    "#         print(DF2_exemplo)\n",
    "        \n",
    "    "
   ]
  },
  {
   "cell_type": "code",
   "execution_count": 639,
   "metadata": {},
   "outputs": [],
   "source": [
    "# ROTAS = list(zip(HUB, SPOKE, DEMANDA, DISTANCIA, PASSAGEM))\n",
    "# ROTAS"
   ]
  },
  {
   "cell_type": "code",
   "execution_count": 704,
   "metadata": {},
   "outputs": [],
   "source": [
    "# DATA2= DATA\n",
    "# for hub in HUBN:\n",
    "#     for hub2 in HUBN:\n",
    "#         if hub != hub2:\n",
    "#             DATA3 = pd.DataFrame({\"Hub\":[hub],\"Spoke\":[hub2],\"Demanda\":[0],\"Distancia\": [Dist_hub[hub][hub2]]})\n",
    "#             DATA2 = DATA2.append(DATA3, ignore_index=True)"
   ]
  },
  {
   "cell_type": "code",
   "execution_count": 754,
   "metadata": {},
   "outputs": [],
   "source": [
    "M = 100\n",
    "K = 2\n",
    "    \n",
    "FO = LpProblem('Malha_PAN',LpMaximize)\n",
    "\n",
    "FLUXO = LpVariable.dicts('Fluxos',[(a,j) for j in range(N) for a in range(N_ANV)],0,None,cat='Integer')\n",
    "PASSAGEIROS = LpVariable.dicts('PASSAGEIROS',[(a,j) for j in range(N) for a in range(N_ANV)],0,None,cat='Integer')\n",
    "BINARIO1 = LpVariable.dicts('Bin1',[(a,j) for j in range(N) for a in range(N_ANV)],0,None,cat='Binary')\n",
    "BINARIO2 = LpVariable.dicts('Bin2',[(a) for a in range(N_ANV)],0,None,cat='Binary')\n",
    "BINARIO3 = LpVariable.dicts('Bin3',[(j,spoke,hubs) for j in range(N) for spoke in SPOKE for hubs in HUB],0,None, cat='Binary')"
   ]
  },
  {
   "cell_type": "code",
   "execution_count": 755,
   "metadata": {},
   "outputs": [],
   "source": [
    "#Função Objetivo\n",
    "FO += lpSum(PASSAGEM[j]*PASSAGEIROS[(a,j)] - CASK[((N*a)+j)]*ASSENTOS[a]*DISTANCIA[j]*FLUXO[(a,j)] for a in range(N_ANV) for j in range(N))"
   ]
  },
  {
   "cell_type": "code",
   "execution_count": 756,
   "metadata": {},
   "outputs": [],
   "source": [
    "# R.1 - Num de pax transportado igual a demanda \n",
    "for j in range(N):\n",
    "    FO += lpSum(PASSAGEIROS[(a,j)] for a in range(N_ANV)) - DEMANDA[j] <= 0"
   ]
  },
  {
   "cell_type": "code",
   "execution_count": 757,
   "metadata": {},
   "outputs": [],
   "source": [
    "# R.2 - Demanda atendida pelo Fluxo\n",
    "# Mesmo código do R.2 - Deixar apenas uma  \n",
    "for a in range(N_ANV):\n",
    "    for j in range(N):\n",
    "        FO += PASSAGEIROS[(a,j)] - ASSENTOS[a]*FLUXO[(a,j)] <= 0"
   ]
  },
  {
   "cell_type": "code",
   "execution_count": 758,
   "metadata": {},
   "outputs": [],
   "source": [
    "# R.2.2 - Demanda atendida pelo Fluxo\n",
    "    #COD_ESTUDO_PAN: PAX - ASSENTO*FLUXO.\n",
    "    # Mesmo código do R.2 - Deixar apenas uma \n",
    "# for j in range(N):\n",
    "#     FO += lpSum(ASSENTOS[a]*FLUXO[(a,j)] for a in range(N_ANV)) - DEMANDA[j] >= 0"
   ]
  },
  {
   "cell_type": "code",
   "execution_count": 759,
   "metadata": {},
   "outputs": [],
   "source": [
    "# R.3 - Definindo o Fluxo máximo\n",
    "for a in range(N_ANV):\n",
    "    for j in range(N):\n",
    "        FO += FLUXO[(a,j)] - M*BINARIO1[(a,j)] <= 0"
   ]
  },
  {
   "cell_type": "code",
   "execution_count": 760,
   "metadata": {},
   "outputs": [],
   "source": [
    "# R.4 - Número máximo de aeronave no modelo\n",
    "for j in range(N):\n",
    "    FO += lpSum(BINARIO1[(a,j)] for a in range(N_ANV)) - K <= 0"
   ]
  },
  {
   "cell_type": "code",
   "execution_count": 761,
   "metadata": {},
   "outputs": [],
   "source": [
    "# R.5 - Alcance de aeronave \n",
    "for a in range(N_ANV):\n",
    "    for j in range(N):\n",
    "        FO += ALCANCE[a] - DISTANCIA[j]*BINARIO2[(a)] >= 0"
   ]
  },
  {
   "cell_type": "code",
   "execution_count": 762,
   "metadata": {},
   "outputs": [],
   "source": [
    "# R.6 - Ajustando o Fluxo ao alcance\n",
    "for a in range(N_ANV):\n",
    "    for j in range(N):\n",
    "        FO += FLUXO[(a,j)] - M*BINARIO2[(a)] <= 0\n"
   ]
  },
  {
   "cell_type": "code",
   "execution_count": 763,
   "metadata": {},
   "outputs": [],
   "source": [
    "# R.7 - Num Max de anv por rota \n",
    "for j in range(N):\n",
    "    FO += lpSum(BINARIO2[(a)] for a in range(N_ANV)) - K <= 0"
   ]
  },
  {
   "cell_type": "code",
   "execution_count": 764,
   "metadata": {
    "scrolled": false
   },
   "outputs": [],
   "source": [
    "# R.8 - Adequando o FLuxo à ligação Spike com apenas 1 HUB:\n",
    "\n",
    "for spoke in SPOKEN:\n",
    "    c = DADOS1['Hub'][DADOS1['Spoke']==spoke].index\n",
    "    #print('SPOKE=',spoke)\n",
    "    for j in c:\n",
    "        #print('INDEX=',j)\n",
    "        for a in range(N_ANV):\n",
    "            FO += FLUXO[(a,j)] - M*BINARIO3[(j,SPOKE[j],HUB[j])] <= 0\n",
    "            #print(FLUXO[(a,j)],'-M',BINARIO3[(j,SPOKE[j],HUB[j])])\n",
    "            \n",
    "        "
   ]
  },
  {
   "cell_type": "code",
   "execution_count": 765,
   "metadata": {},
   "outputs": [],
   "source": [
    "# R.9 - Um SPIKE ligado por apenas 1 HUB\n",
    "for spoke in SPOKEN:\n",
    "    c = DADOS1['Hub'][DADOS1['Spoke']==spoke].index\n",
    "    #print('SPOKE=',spoke)\n",
    "    FO += lpSum(BINARIO3[(j,SPOKE[j],HUB[j])] for j in c) - 1 <=0\n",
    "    #print(lpSum(BINARIO3[(j,SPOKE[j],HUB[j])] for j in c))\n",
    "            "
   ]
  },
  {
   "cell_type": "code",
   "execution_count": 766,
   "metadata": {},
   "outputs": [
    {
     "name": "stdout",
     "output_type": "stream",
     "text": [
      "Status: Optimal\n"
     ]
    }
   ],
   "source": [
    "FO.solve()\n",
    "print('Status:', LpStatus[FO.status])"
   ]
  },
  {
   "cell_type": "code",
   "execution_count": 767,
   "metadata": {
    "scrolled": true
   },
   "outputs": [
    {
     "name": "stdout",
     "output_type": "stream",
     "text": [
      "\n",
      "\n",
      "Bin1_(0,_0) - 1.0\n",
      "Bin1_(0,_1) - 1.0\n",
      "Bin1_(0,_2) - 1.0\n",
      "Bin1_(0,_3) - 1.0\n",
      "Bin1_(0,_4) - 1.0\n",
      "Bin1_(0,_5) - 1.0\n",
      "Bin1_(1,_0) - 1.0\n",
      "Bin1_(1,_1) - 1.0\n",
      "Bin1_(1,_2) - 1.0\n",
      "Bin1_(1,_3) - 1.0\n",
      "Bin1_(1,_4) - 1.0\n",
      "Bin1_(1,_5) - 1.0\n",
      "Bin2_0 - 1.0\n",
      "Bin2_1 - 1.0\n",
      "Bin3_(0,_19,_53) - 1.0\n",
      "Bin3_(1,_20,_53) - 1.0\n",
      "Bin3_(4,_781,_53) - 1.0\n",
      "Bin3_(5,_53,_117) - 1.0\n",
      "Fluxos_(0,_4) - 1.0\n",
      "Fluxos_(0,_5) - 2.0\n",
      "Fluxos_(1,_0) - 12.0\n",
      "Fluxos_(1,_1) - 18.0\n",
      "Fluxos_(1,_5) - 3.0\n",
      "PASSAGEIROS_(0,_4) - 40.0\n",
      "PASSAGEIROS_(0,_5) - 220.0\n",
      "PASSAGEIROS_(1,_0) - 1819.0\n",
      "PASSAGEIROS_(1,_1) - 2787.0\n",
      "PASSAGEIROS_(1,_5) - 449.0\n",
      "\n",
      "\n",
      "O lucro total é de US$ 2357265.61\n"
     ]
    }
   ],
   "source": [
    "print('\\n')\n",
    "\n",
    "for v in FO.variables():\n",
    "    if v.varValue != 0 and v.varValue != M:\n",
    "        print(v.name,'-',v.varValue)\n",
    "\n",
    "lucro = value(FO.objective)\n",
    "\n",
    "print('\\n')  \n",
    "print('O lucro total é de US$ %.2f' % lucro)"
   ]
  }
 ],
 "metadata": {
  "interpreter": {
   "hash": "e41611a77acbaae9c37b0386be0c79b6091f38f2c48473bb3b56bc133214021b"
  },
  "kernelspec": {
   "display_name": "Python 3",
   "language": "python",
   "name": "python3"
  },
  "language_info": {
   "codemirror_mode": {
    "name": "ipython",
    "version": 3
   },
   "file_extension": ".py",
   "mimetype": "text/x-python",
   "name": "python",
   "nbconvert_exporter": "python",
   "pygments_lexer": "ipython3",
   "version": "3.8.3"
  }
 },
 "nbformat": 4,
 "nbformat_minor": 2
}
